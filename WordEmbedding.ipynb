{
  "nbformat": 4,
  "nbformat_minor": 0,
  "metadata": {
    "colab": {
      "name": "WordEmbedding.ipynb",
      "provenance": [],
      "authorship_tag": "ABX9TyPoht3+/4gySxErimUz+tse",
      "include_colab_link": true
    },
    "kernelspec": {
      "name": "python3",
      "display_name": "Python 3"
    }
  },
  "cells": [
    {
      "cell_type": "markdown",
      "metadata": {
        "id": "view-in-github",
        "colab_type": "text"
      },
      "source": [
        "<a href=\"https://colab.research.google.com/github/Shivank-thapa/Keras_Test/blob/main/WordEmbedding.ipynb\" target=\"_parent\"><img src=\"https://colab.research.google.com/assets/colab-badge.svg\" alt=\"Open In Colab\"/></a>"
      ]
    },
    {
      "cell_type": "markdown",
      "metadata": {
        "id": "APzzZ-na9xpG"
      },
      "source": [
        "#### **Word embedding techniques using Embedding layer in Keras**"
      ]
    },
    {
      "cell_type": "code",
      "metadata": {
        "id": "z3bi_pd59FCv"
      },
      "source": [
        "from tensorflow.keras.preprocessing.text import one_hot"
      ],
      "execution_count": 1,
      "outputs": []
    },
    {
      "cell_type": "code",
      "metadata": {
        "id": "UTZuIrxT-L9M"
      },
      "source": [
        "# initialise sentences\n",
        "sentences = ['the glass of milk',\n",
        "             'the glass of juice',\n",
        "             'the cup of tea',\n",
        "             'I am a good boy',\n",
        "             'I am a good developer',\n",
        "             'understand the meaning of words',\n",
        "             'your videos are good']"
      ],
      "execution_count": 2,
      "outputs": []
    },
    {
      "cell_type": "code",
      "metadata": {
        "id": "HkDY-wfP-y6D"
      },
      "source": [
        "vocab_size = 10000"
      ],
      "execution_count": 3,
      "outputs": []
    },
    {
      "cell_type": "markdown",
      "metadata": {
        "id": "xlSUid1P_Hou"
      },
      "source": [
        "##### One hot representation"
      ]
    },
    {
      "cell_type": "code",
      "metadata": {
        "id": "EzGf_35t_A9K",
        "outputId": "7fde7cb3-1fa3-4f2e-9dcc-f78d89c8efe7",
        "colab": {
          "base_uri": "https://localhost:8080/"
        }
      },
      "source": [
        "onehot_repr = [one_hot(words, vocab_size) for words in sentences]\n",
        "\n",
        "# for each word we get an index from dictionary\n",
        "print(onehot_repr)"
      ],
      "execution_count": 5,
      "outputs": [
        {
          "output_type": "stream",
          "text": [
            "[[7217, 8021, 9952, 2121], [7217, 8021, 9952, 2494], [7217, 9634, 9952, 6981], [1973, 9029, 39, 1246, 4036], [1973, 9029, 39, 1246, 9541], [8665, 7217, 3508, 9952, 8069], [4566, 104, 9188, 1246]]\n"
          ],
          "name": "stdout"
        }
      ]
    },
    {
      "cell_type": "markdown",
      "metadata": {
        "id": "SEtbKMUt_1h0"
      },
      "source": [
        "##### Word embedding representation"
      ]
    },
    {
      "cell_type": "code",
      "metadata": {
        "id": "r8Eq3ZOo_dQY"
      },
      "source": [
        "from tensorflow.keras.layers import Embedding\n",
        "from tensorflow.keras.preprocessing.sequence import pad_sequences\n",
        "from tensorflow.keras.models import Sequential\n",
        "import numpy as np"
      ],
      "execution_count": 6,
      "outputs": []
    },
    {
      "cell_type": "code",
      "metadata": {
        "id": "5irqq5HdAQ_9",
        "outputId": "20a1b507-263a-493f-c333-2255a4d8cb69",
        "colab": {
          "base_uri": "https://localhost:8080/"
        }
      },
      "source": [
        "sent_length=8\n",
        "# make all sentences of same length by padding\n",
        "embedded_docs = pad_sequences(onehot_repr, padding='pre', maxlen=sent_length)\n",
        "print(embedded_docs)"
      ],
      "execution_count": 7,
      "outputs": [
        {
          "output_type": "stream",
          "text": [
            "[[   0    0    0    0 7217 8021 9952 2121]\n",
            " [   0    0    0    0 7217 8021 9952 2494]\n",
            " [   0    0    0    0 7217 9634 9952 6981]\n",
            " [   0    0    0 1973 9029   39 1246 4036]\n",
            " [   0    0    0 1973 9029   39 1246 9541]\n",
            " [   0    0    0 8665 7217 3508 9952 8069]\n",
            " [   0    0    0    0 4566  104 9188 1246]]\n"
          ],
          "name": "stdout"
        }
      ]
    },
    {
      "cell_type": "code",
      "metadata": {
        "id": "XCBqlTkqAwU1"
      },
      "source": [
        "# dimesions for embedding\n",
        "dim = 10"
      ],
      "execution_count": 8,
      "outputs": []
    },
    {
      "cell_type": "code",
      "metadata": {
        "id": "_x6l-coHBAHd"
      },
      "source": [
        "model = Sequential()\n",
        "# add a Embedding layer to convert into a featurised representation based on dimension\n",
        "model.add(Embedding(vocab_size, 10, input_length=sent_length))"
      ],
      "execution_count": 9,
      "outputs": []
    },
    {
      "cell_type": "code",
      "metadata": {
        "id": "qabq9prkBtYQ"
      },
      "source": [
        "model.compile('adam', 'mse')"
      ],
      "execution_count": 10,
      "outputs": []
    },
    {
      "cell_type": "code",
      "metadata": {
        "id": "L6W60sp8BxeK",
        "outputId": "98cdbbde-09fe-4cbd-b119-56f138fe00ed",
        "colab": {
          "base_uri": "https://localhost:8080/"
        }
      },
      "source": [
        "model.summary()"
      ],
      "execution_count": 11,
      "outputs": [
        {
          "output_type": "stream",
          "text": [
            "Model: \"sequential\"\n",
            "_________________________________________________________________\n",
            "Layer (type)                 Output Shape              Param #   \n",
            "=================================================================\n",
            "embedding (Embedding)        (None, 8, 10)             100000    \n",
            "=================================================================\n",
            "Total params: 100,000\n",
            "Trainable params: 100,000\n",
            "Non-trainable params: 0\n",
            "_________________________________________________________________\n"
          ],
          "name": "stdout"
        }
      ]
    },
    {
      "cell_type": "code",
      "metadata": {
        "id": "kT7L0ppfB07V"
      },
      "source": [
        "print(model.predict(embedded_docs))"
      ],
      "execution_count": null,
      "outputs": []
    },
    {
      "cell_type": "code",
      "metadata": {
        "id": "WGw_yo_VCCsg",
        "outputId": "4903f20c-69cb-4f5f-efaf-cb3506ad8fc6",
        "colab": {
          "base_uri": "https://localhost:8080/"
        }
      },
      "source": [
        "embedded_docs[0]"
      ],
      "execution_count": 13,
      "outputs": [
        {
          "output_type": "execute_result",
          "data": {
            "text/plain": [
              "array([   0,    0,    0,    0, 7217, 8021, 9952, 2121], dtype=int32)"
            ]
          },
          "metadata": {
            "tags": []
          },
          "execution_count": 13
        }
      ]
    },
    {
      "cell_type": "code",
      "metadata": {
        "id": "WFCowMFbCHrn",
        "outputId": "73ddbc5c-6a31-4bac-8ed4-24b9e6fd0ab6",
        "colab": {
          "base_uri": "https://localhost:8080/"
        }
      },
      "source": [
        "print(model.predict(embedded_docs)[0])"
      ],
      "execution_count": 14,
      "outputs": [
        {
          "output_type": "stream",
          "text": [
            "[[ 0.02055169  0.00684401 -0.0043185   0.02364429 -0.02539853 -0.03732651\n",
            "  -0.0246421  -0.01053581  0.0397105  -0.00724469]\n",
            " [ 0.02055169  0.00684401 -0.0043185   0.02364429 -0.02539853 -0.03732651\n",
            "  -0.0246421  -0.01053581  0.0397105  -0.00724469]\n",
            " [ 0.02055169  0.00684401 -0.0043185   0.02364429 -0.02539853 -0.03732651\n",
            "  -0.0246421  -0.01053581  0.0397105  -0.00724469]\n",
            " [ 0.02055169  0.00684401 -0.0043185   0.02364429 -0.02539853 -0.03732651\n",
            "  -0.0246421  -0.01053581  0.0397105  -0.00724469]\n",
            " [-0.03332315  0.02101848  0.04549983  0.0036564  -0.03582742  0.00945202\n",
            "   0.03817279 -0.0057795  -0.02406625 -0.00071912]\n",
            " [-0.00845493  0.0167082  -0.04144489  0.01511389 -0.03229548  0.04999883\n",
            "  -0.04209101  0.04976979 -0.01102878 -0.00756145]\n",
            " [ 0.04504846 -0.01315738  0.03152053 -0.02955397  0.04453244 -0.04164732\n",
            "   0.0173764   0.02215953 -0.03403151  0.00422977]\n",
            " [-0.03094018 -0.01310843 -0.02114939 -0.01808636  0.0221723  -0.00789423\n",
            "  -0.0244459  -0.02609177  0.00913771 -0.03091261]]\n"
          ],
          "name": "stdout"
        }
      ]
    }
  ]
}