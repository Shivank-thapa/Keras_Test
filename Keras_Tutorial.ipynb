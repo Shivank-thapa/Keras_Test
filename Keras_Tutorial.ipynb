{
  "nbformat": 4,
  "nbformat_minor": 0,
  "metadata": {
    "colab": {
      "name": "Keras_Tutorial.ipynb",
      "provenance": [],
      "authorship_tag": "ABX9TyPkdPBTpVGA4S0Pr5nhehCW",
      "include_colab_link": true
    },
    "kernelspec": {
      "name": "python3",
      "display_name": "Python 3"
    },
    "accelerator": "GPU"
  },
  "cells": [
    {
      "cell_type": "markdown",
      "metadata": {
        "id": "view-in-github",
        "colab_type": "text"
      },
      "source": [
        "<a href=\"https://colab.research.google.com/github/Shivank-thapa/Keras_Test/blob/main/Keras_Tutorial.ipynb\" target=\"_parent\"><img src=\"https://colab.research.google.com/assets/colab-badge.svg\" alt=\"Open In Colab\"/></a>"
      ]
    },
    {
      "cell_type": "code",
      "metadata": {
        "id": "aM9L9-vj1Z2P"
      },
      "source": [
        "import numpy as np\n",
        "from random import randint\n",
        "from sklearn.utils import shuffle\n",
        "from sklearn.preprocessing import MinMaxScaler"
      ],
      "execution_count": 1,
      "outputs": []
    },
    {
      "cell_type": "code",
      "metadata": {
        "id": "r1c-PO-H2NWH"
      },
      "source": [
        "train_labels = []\n",
        "train_samples = []"
      ],
      "execution_count": 2,
      "outputs": []
    },
    {
      "cell_type": "code",
      "metadata": {
        "id": "wV-p5zOt4GOQ"
      },
      "source": [
        "for i in range(50):\n",
        "  random_younger = randint(13,64)\n",
        "  train_samples.append(random_younger)\n",
        "  train_labels.append(1)\n",
        "\n",
        "  random_older = randint(65, 100)\n",
        "  train_samples.append(random_older)\n",
        "  train_labels.append(0)\n",
        "\n",
        "for i in range(1000):\n",
        "  random_younger = randint(13,64)\n",
        "  train_samples.append(random_younger)\n",
        "  train_labels.append(0)\n",
        "\n",
        "  random_older = randint(65, 100)\n",
        "  train_samples.append(random_older)\n",
        "  train_labels.append(1)"
      ],
      "execution_count": 3,
      "outputs": []
    },
    {
      "cell_type": "code",
      "metadata": {
        "id": "n5-T6qOK4khF"
      },
      "source": [
        "train_labels = np.array(train_labels)\n",
        "train_samples = np.array(train_samples)\n",
        "train_labels, train_samples = shuffle(train_labels, train_samples)"
      ],
      "execution_count": 4,
      "outputs": []
    },
    {
      "cell_type": "code",
      "metadata": {
        "id": "lNmHcMFM5Ehw"
      },
      "source": [
        "scaler = MinMaxScaler(feature_range=(0,1))\n",
        "scaled_train_samples = scaler.fit_transform(train_samples.reshape(-1,1))"
      ],
      "execution_count": 5,
      "outputs": []
    },
    {
      "cell_type": "code",
      "metadata": {
        "id": "vzvcz5W-5Ycn"
      },
      "source": [
        "import tensorflow as tf\n",
        "from tensorflow import keras\n",
        "from tensorflow.keras.models import Sequential\n",
        "from tensorflow.keras.layers import Activation, Dense\n",
        "from tensorflow.keras.optimizers import Adam\n",
        "from tensorflow.keras.metrics import categorical_crossentropy"
      ],
      "execution_count": 6,
      "outputs": []
    },
    {
      "cell_type": "code",
      "metadata": {
        "id": "7pwVu6536SP_"
      },
      "source": [
        "model = Sequential([\n",
        "                    Dense(units=16, input_shape=(1,), activation='relu'),\n",
        "                    Dense(units=32, activation='relu'),\n",
        "                    Dense(units=2, activation='softmax')\n",
        "])"
      ],
      "execution_count": 7,
      "outputs": []
    },
    {
      "cell_type": "code",
      "metadata": {
        "id": "T8DsBdXL6tP8",
        "outputId": "d1040158-4ed9-4218-d01c-c00782c5c707",
        "colab": {
          "base_uri": "https://localhost:8080/"
        }
      },
      "source": [
        "model.summary()"
      ],
      "execution_count": 8,
      "outputs": [
        {
          "output_type": "stream",
          "text": [
            "Model: \"sequential\"\n",
            "_________________________________________________________________\n",
            "Layer (type)                 Output Shape              Param #   \n",
            "=================================================================\n",
            "dense (Dense)                (None, 16)                32        \n",
            "_________________________________________________________________\n",
            "dense_1 (Dense)              (None, 32)                544       \n",
            "_________________________________________________________________\n",
            "dense_2 (Dense)              (None, 2)                 66        \n",
            "=================================================================\n",
            "Total params: 642\n",
            "Trainable params: 642\n",
            "Non-trainable params: 0\n",
            "_________________________________________________________________\n"
          ],
          "name": "stdout"
        }
      ]
    },
    {
      "cell_type": "code",
      "metadata": {
        "id": "Fm04ZoSc69n6"
      },
      "source": [
        "model.compile(optimizer=Adam(learning_rate=0.0001), loss='sparse_categorical_crossentropy', metrics=['accuracy'])"
      ],
      "execution_count": 9,
      "outputs": []
    },
    {
      "cell_type": "code",
      "metadata": {
        "id": "fVUv17Mp7Xb3",
        "outputId": "0f034c6e-a5ec-4bd3-9fc2-ca36a1d83e55",
        "colab": {
          "base_uri": "https://localhost:8080/"
        }
      },
      "source": [
        "model.fit(x=scaled_train_samples, y=train_labels, batch_size=10, epochs=30, shuffle=True, verbose=2)"
      ],
      "execution_count": 10,
      "outputs": [
        {
          "output_type": "stream",
          "text": [
            "Epoch 1/30\n",
            "210/210 - 0s - loss: 0.6942 - accuracy: 0.5552\n",
            "Epoch 2/30\n",
            "210/210 - 0s - loss: 0.6716 - accuracy: 0.6467\n",
            "Epoch 3/30\n",
            "210/210 - 0s - loss: 0.6471 - accuracy: 0.6843\n",
            "Epoch 4/30\n",
            "210/210 - 0s - loss: 0.6210 - accuracy: 0.7133\n",
            "Epoch 5/30\n",
            "210/210 - 0s - loss: 0.5932 - accuracy: 0.7400\n",
            "Epoch 6/30\n",
            "210/210 - 0s - loss: 0.5638 - accuracy: 0.7695\n",
            "Epoch 7/30\n",
            "210/210 - 0s - loss: 0.5321 - accuracy: 0.8000\n",
            "Epoch 8/30\n",
            "210/210 - 0s - loss: 0.4954 - accuracy: 0.8295\n",
            "Epoch 9/30\n",
            "210/210 - 0s - loss: 0.4638 - accuracy: 0.8524\n",
            "Epoch 10/30\n",
            "210/210 - 0s - loss: 0.4353 - accuracy: 0.8624\n",
            "Epoch 11/30\n",
            "210/210 - 0s - loss: 0.4095 - accuracy: 0.8767\n",
            "Epoch 12/30\n",
            "210/210 - 0s - loss: 0.3867 - accuracy: 0.8881\n",
            "Epoch 13/30\n",
            "210/210 - 0s - loss: 0.3672 - accuracy: 0.8933\n",
            "Epoch 14/30\n",
            "210/210 - 0s - loss: 0.3505 - accuracy: 0.9024\n",
            "Epoch 15/30\n",
            "210/210 - 0s - loss: 0.3366 - accuracy: 0.9086\n",
            "Epoch 16/30\n",
            "210/210 - 0s - loss: 0.3250 - accuracy: 0.9095\n",
            "Epoch 17/30\n",
            "210/210 - 0s - loss: 0.3153 - accuracy: 0.9248\n",
            "Epoch 18/30\n",
            "210/210 - 0s - loss: 0.3073 - accuracy: 0.9205\n",
            "Epoch 19/30\n",
            "210/210 - 0s - loss: 0.3007 - accuracy: 0.9200\n",
            "Epoch 20/30\n",
            "210/210 - 0s - loss: 0.2955 - accuracy: 0.9290\n",
            "Epoch 21/30\n",
            "210/210 - 0s - loss: 0.2909 - accuracy: 0.9286\n",
            "Epoch 22/30\n",
            "210/210 - 0s - loss: 0.2874 - accuracy: 0.9324\n",
            "Epoch 23/30\n",
            "210/210 - 0s - loss: 0.2842 - accuracy: 0.9329\n",
            "Epoch 24/30\n",
            "210/210 - 0s - loss: 0.2816 - accuracy: 0.9343\n",
            "Epoch 25/30\n",
            "210/210 - 0s - loss: 0.2794 - accuracy: 0.9314\n",
            "Epoch 26/30\n",
            "210/210 - 0s - loss: 0.2775 - accuracy: 0.9367\n",
            "Epoch 27/30\n",
            "210/210 - 0s - loss: 0.2757 - accuracy: 0.9357\n",
            "Epoch 28/30\n",
            "210/210 - 0s - loss: 0.2744 - accuracy: 0.9381\n",
            "Epoch 29/30\n",
            "210/210 - 0s - loss: 0.2733 - accuracy: 0.9357\n",
            "Epoch 30/30\n",
            "210/210 - 0s - loss: 0.2722 - accuracy: 0.9367\n"
          ],
          "name": "stdout"
        },
        {
          "output_type": "execute_result",
          "data": {
            "text/plain": [
              "<tensorflow.python.keras.callbacks.History at 0x7fd885be5588>"
            ]
          },
          "metadata": {
            "tags": []
          },
          "execution_count": 10
        }
      ]
    },
    {
      "cell_type": "code",
      "metadata": {
        "id": "Qd41WyqW7ipv",
        "outputId": "d7013619-4f55-4031-858c-2badbc71c6b1",
        "colab": {
          "base_uri": "https://localhost:8080/"
        }
      },
      "source": [
        "model.fit(x=scaled_train_samples, y=train_labels, validation_split=0.1, batch_size=10, epochs=30, shuffle=True, verbose=2)"
      ],
      "execution_count": 11,
      "outputs": [
        {
          "output_type": "stream",
          "text": [
            "Epoch 1/30\n",
            "189/189 - 0s - loss: 0.2644 - accuracy: 0.9418 - val_loss: 0.3337 - val_accuracy: 0.9000\n",
            "Epoch 2/30\n",
            "189/189 - 0s - loss: 0.2638 - accuracy: 0.9339 - val_loss: 0.3300 - val_accuracy: 0.9095\n",
            "Epoch 3/30\n",
            "189/189 - 0s - loss: 0.2631 - accuracy: 0.9386 - val_loss: 0.3295 - val_accuracy: 0.9095\n",
            "Epoch 4/30\n",
            "189/189 - 0s - loss: 0.2624 - accuracy: 0.9386 - val_loss: 0.3300 - val_accuracy: 0.9095\n",
            "Epoch 5/30\n",
            "189/189 - 0s - loss: 0.2618 - accuracy: 0.9402 - val_loss: 0.3291 - val_accuracy: 0.9095\n",
            "Epoch 6/30\n",
            "189/189 - 0s - loss: 0.2610 - accuracy: 0.9402 - val_loss: 0.3319 - val_accuracy: 0.9095\n",
            "Epoch 7/30\n",
            "189/189 - 0s - loss: 0.2605 - accuracy: 0.9386 - val_loss: 0.3290 - val_accuracy: 0.9095\n",
            "Epoch 8/30\n",
            "189/189 - 0s - loss: 0.2603 - accuracy: 0.9402 - val_loss: 0.3303 - val_accuracy: 0.9095\n",
            "Epoch 9/30\n",
            "189/189 - 0s - loss: 0.2597 - accuracy: 0.9397 - val_loss: 0.3293 - val_accuracy: 0.9095\n",
            "Epoch 10/30\n",
            "189/189 - 0s - loss: 0.2591 - accuracy: 0.9402 - val_loss: 0.3294 - val_accuracy: 0.9095\n",
            "Epoch 11/30\n",
            "189/189 - 0s - loss: 0.2584 - accuracy: 0.9402 - val_loss: 0.3311 - val_accuracy: 0.9095\n",
            "Epoch 12/30\n",
            "189/189 - 0s - loss: 0.2580 - accuracy: 0.9418 - val_loss: 0.3318 - val_accuracy: 0.9095\n",
            "Epoch 13/30\n",
            "189/189 - 0s - loss: 0.2576 - accuracy: 0.9381 - val_loss: 0.3285 - val_accuracy: 0.9095\n",
            "Epoch 14/30\n",
            "189/189 - 0s - loss: 0.2575 - accuracy: 0.9418 - val_loss: 0.3287 - val_accuracy: 0.9095\n",
            "Epoch 15/30\n",
            "189/189 - 0s - loss: 0.2566 - accuracy: 0.9413 - val_loss: 0.3293 - val_accuracy: 0.9095\n",
            "Epoch 16/30\n",
            "189/189 - 0s - loss: 0.2564 - accuracy: 0.9402 - val_loss: 0.3299 - val_accuracy: 0.9095\n",
            "Epoch 17/30\n",
            "189/189 - 0s - loss: 0.2560 - accuracy: 0.9392 - val_loss: 0.3277 - val_accuracy: 0.9095\n",
            "Epoch 18/30\n",
            "189/189 - 0s - loss: 0.2555 - accuracy: 0.9413 - val_loss: 0.3258 - val_accuracy: 0.9143\n",
            "Epoch 19/30\n",
            "189/189 - 0s - loss: 0.2551 - accuracy: 0.9423 - val_loss: 0.3260 - val_accuracy: 0.9095\n",
            "Epoch 20/30\n",
            "189/189 - 0s - loss: 0.2544 - accuracy: 0.9402 - val_loss: 0.3252 - val_accuracy: 0.9143\n",
            "Epoch 21/30\n",
            "189/189 - 0s - loss: 0.2539 - accuracy: 0.9413 - val_loss: 0.3263 - val_accuracy: 0.9095\n",
            "Epoch 22/30\n",
            "189/189 - 0s - loss: 0.2537 - accuracy: 0.9407 - val_loss: 0.3257 - val_accuracy: 0.9095\n",
            "Epoch 23/30\n",
            "189/189 - 0s - loss: 0.2529 - accuracy: 0.9397 - val_loss: 0.3255 - val_accuracy: 0.9095\n",
            "Epoch 24/30\n",
            "189/189 - 0s - loss: 0.2523 - accuracy: 0.9413 - val_loss: 0.3250 - val_accuracy: 0.9095\n",
            "Epoch 25/30\n",
            "189/189 - 0s - loss: 0.2517 - accuracy: 0.9386 - val_loss: 0.3229 - val_accuracy: 0.9095\n",
            "Epoch 26/30\n",
            "189/189 - 0s - loss: 0.2514 - accuracy: 0.9402 - val_loss: 0.3216 - val_accuracy: 0.9143\n",
            "Epoch 27/30\n",
            "189/189 - 0s - loss: 0.2507 - accuracy: 0.9402 - val_loss: 0.3207 - val_accuracy: 0.9143\n",
            "Epoch 28/30\n",
            "189/189 - 0s - loss: 0.2502 - accuracy: 0.9407 - val_loss: 0.3212 - val_accuracy: 0.9095\n",
            "Epoch 29/30\n",
            "189/189 - 0s - loss: 0.2496 - accuracy: 0.9418 - val_loss: 0.3199 - val_accuracy: 0.9143\n",
            "Epoch 30/30\n",
            "189/189 - 0s - loss: 0.2493 - accuracy: 0.9429 - val_loss: 0.3186 - val_accuracy: 0.9143\n"
          ],
          "name": "stdout"
        },
        {
          "output_type": "execute_result",
          "data": {
            "text/plain": [
              "<tensorflow.python.keras.callbacks.History at 0x7fd883ac6a90>"
            ]
          },
          "metadata": {
            "tags": []
          },
          "execution_count": 11
        }
      ]
    },
    {
      "cell_type": "code",
      "metadata": {
        "id": "ijplgSEM7_Mg"
      },
      "source": [
        "test_labels = []\n",
        "test_samples = []"
      ],
      "execution_count": 12,
      "outputs": []
    },
    {
      "cell_type": "code",
      "metadata": {
        "id": "hKbUGIGb9FPz"
      },
      "source": [
        "for i in range(10):\n",
        "  random_younger = randint(13,64)\n",
        "  test_samples.append(random_younger)\n",
        "  test_labels.append(1)\n",
        "\n",
        "  random_older = randint(65, 100)\n",
        "  test_samples.append(random_older)\n",
        "  test_labels.append(0)\n",
        "\n",
        "for i in range(200):\n",
        "  random_younger = randint(13,64)\n",
        "  test_samples.append(random_younger)\n",
        "  test_labels.append(0)\n",
        "\n",
        "  random_older = randint(65, 100)\n",
        "  test_samples.append(random_older)\n",
        "  test_labels.append(1)"
      ],
      "execution_count": 14,
      "outputs": []
    },
    {
      "cell_type": "code",
      "metadata": {
        "id": "RVgflF4x9Ma8"
      },
      "source": [
        "test_samples = np.array(test_samples)\n",
        "test_labels = np.array(test_labels)\n",
        "test_labels, test_samples = shuffle(test_labels, test_samples)"
      ],
      "execution_count": 15,
      "outputs": []
    },
    {
      "cell_type": "code",
      "metadata": {
        "id": "NJDs2Qnn9lGR"
      },
      "source": [
        "scaled_test_samples = scaler.fit_transform(test_samples.reshape(-1,1))"
      ],
      "execution_count": 16,
      "outputs": []
    },
    {
      "cell_type": "code",
      "metadata": {
        "id": "KRbQ08Wg9tDz"
      },
      "source": [
        "predictions = model.predict(x=scaled_test_samples, batch_size=10, verbose=0)"
      ],
      "execution_count": 17,
      "outputs": []
    },
    {
      "cell_type": "code",
      "metadata": {
        "id": "0YHaGxL9921k"
      },
      "source": [
        "rounded_predictions = np.argmax(predictions, axis=-1)"
      ],
      "execution_count": 19,
      "outputs": []
    },
    {
      "cell_type": "code",
      "metadata": {
        "id": "gR7JLwSf-Fl3"
      },
      "source": [
        ""
      ],
      "execution_count": null,
      "outputs": []
    }
  ]
}